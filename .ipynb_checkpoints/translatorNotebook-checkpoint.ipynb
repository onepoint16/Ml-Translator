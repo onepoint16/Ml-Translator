{
 "cells": [
  {
   "cell_type": "code",
   "execution_count": 4,
   "id": "126170e7-c535-4898-b63e-3c06ddc13954",
   "metadata": {},
   "outputs": [],
   "source": [
    "import gradio as gr\n",
    "from transformers import pipeline"
   ]
  },
  {
   "cell_type": "code",
   "execution_count": 5,
   "id": "9ccd880b-f5c6-46b2-bd60-0186093efa3e",
   "metadata": {},
   "outputs": [
    {
     "name": "stderr",
     "output_type": "stream",
     "text": [
      "No model was supplied, defaulted to t5-base (https://huggingface.co/t5-base)\n"
     ]
    }
   ],
   "source": [
    "translation_pipeline = pipeline('translation_en_to_de')\n"
   ]
  },
  {
   "cell_type": "code",
   "execution_count": 6,
   "id": "69278b98-e5a3-4e96-a9cf-6a42b414e33d",
   "metadata": {},
   "outputs": [],
   "source": [
    "results = translation_pipeline('I love ice cream')"
   ]
  },
  {
   "cell_type": "code",
   "execution_count": 7,
   "id": "286711dd-0dfb-4ccf-85b7-dbc0541f3df2",
   "metadata": {},
   "outputs": [
    {
     "data": {
      "text/plain": [
       "'Ich liebe Eiscreme'"
      ]
     },
     "execution_count": 7,
     "metadata": {},
     "output_type": "execute_result"
    }
   ],
   "source": [
    "results[0]['translation_text']"
   ]
  },
  {
   "cell_type": "code",
   "execution_count": 8,
   "id": "2ffc81ea-0d2d-461a-aa2d-a0f29a9527ea",
   "metadata": {},
   "outputs": [],
   "source": [
    "def translate_transformers(from_text):\n",
    "    results = translation_pipeline(from_text)\n",
    "    return results[0]['translation_text']"
   ]
  },
  {
   "cell_type": "code",
   "execution_count": 9,
   "id": "fb693d42-dc09-43cc-9685-3f013370047d",
   "metadata": {},
   "outputs": [
    {
     "data": {
      "text/plain": [
       "'Ich liebe Eiscreme'"
      ]
     },
     "execution_count": 9,
     "metadata": {},
     "output_type": "execute_result"
    }
   ],
   "source": [
    "translate_transformers('I love ice cream')"
   ]
  },
  {
   "cell_type": "code",
   "execution_count": null,
   "id": "b2e74ce4-ad13-4b19-9254-b94b6da37364",
   "metadata": {},
   "outputs": [],
   "source": [
    "interface = gr.Interface(fn=translate_transformers, \n",
    "                         inputs=gr.inputs.Textbox(lines=2, placeholder='Test to translate'), \n",
    "                         outputs='text')"
   ]
  }
 ],
 "metadata": {
  "kernelspec": {
   "display_name": "SamTranslator",
   "language": "python",
   "name": "samtranslator"
  },
  "language_info": {
   "codemirror_mode": {
    "name": "ipython",
    "version": 3
   },
   "file_extension": ".py",
   "mimetype": "text/x-python",
   "name": "python",
   "nbconvert_exporter": "python",
   "pygments_lexer": "ipython3",
   "version": "3.8.13"
  }
 },
 "nbformat": 4,
 "nbformat_minor": 5
}
